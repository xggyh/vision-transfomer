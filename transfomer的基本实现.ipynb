{
 "cells": [
  {
   "cell_type": "code",
   "execution_count": 128,
   "metadata": {},
   "outputs": [],
   "source": [
    "import torch\n",
    "import torch.nn as nn\n",
    "import torch.nn.functional as F\n",
    "import math\n",
    "import numpy as np"
   ]
  },
  {
   "cell_type": "markdown",
   "metadata": {},
   "source": [
    "## transformer 实现"
   ]
  },
  {
   "cell_type": "markdown",
   "metadata": {},
   "source": [
    "### Encoder  part"
   ]
  },
  {
   "cell_type": "code",
   "execution_count": 129,
   "metadata": {},
   "outputs": [],
   "source": [
    "max_len = 512\n",
    "d_model = 128\n",
    "d_k, d_q = 36, 36\n",
    "d_v = 36\n",
    "n_head = 8\n",
    "d_fc = 256\n",
    "n_layers = 3 \n",
    "vocab_size = 30"
   ]
  },
  {
   "cell_type": "code",
   "execution_count": 130,
   "metadata": {},
   "outputs": [],
   "source": [
    "class PositionEncoder(nn.Module):\n",
    "    def __init__(self,  d_model, dropout=0.0, max_len=5000):\n",
    "        super().__init__()\n",
    "        self.dropout = nn.Dropout(dropout)\n",
    "        pe = torch.zeros(max_len, d_model, dtype=torch.float)\n",
    "        row = torch.arange(0, max_len, dtype=torch.float).unsqueeze(1) # 这个unqueeze1将整个row变为了一列\n",
    "        col = torch.exp(torch.arange(0, d_model, 2) * (-math.log(10000.0/d_model)))\n",
    "        pe[:, 0::2] = torch.sin(row * col)\n",
    "        pe[:, 1::2] = torch.cos(row * col)\n",
    "        # 将pe转化为（len， 1， dmodel）形式\n",
    "        pe = pe.unsqueeze(0).transpose(0,1)\n",
    "        self.register_buffer('pe', pe)\n",
    "    def forward(self, x):\n",
    "        '''\n",
    "        x [seq_len, batch_size, embedding_size] \n",
    "        '''\n",
    "        seq_len, bs, _ = x.size()\n",
    "        x = x + self.pe[x.size(0), :]\n",
    "        return self.dropout(x)    "
   ]
  },
  {
   "cell_type": "code",
   "execution_count": 131,
   "metadata": {},
   "outputs": [],
   "source": [
    "def get_attn_pad_mask(q, k):\n",
    "    '''q: (batch_size, len_q) '''\n",
    "    batch_size, len_q = q.size()\n",
    "    batch_size, len_k = k.size()\n",
    "    mask = k.data.eq(0).unsqueeze(1) # bs, 1, len_q\n",
    "    return mask.expand(batch_size, len_q, len_k)    "
   ]
  },
  {
   "cell_type": "code",
   "execution_count": 132,
   "metadata": {},
   "outputs": [],
   "source": [
    "# q = torch.tensor([[1,1,1,1,0,0], [1,1,0,0,0,0]])\n",
    "# get_encoder_mask(q, q)"
   ]
  },
  {
   "cell_type": "code",
   "execution_count": 133,
   "metadata": {},
   "outputs": [],
   "source": [
    "def get_attn_subsequence_mask(seq):\n",
    "    subsequence_mask =  np.triu(np.ones([seq.size(0), seq.size(1), seq.size(1)]), k=1)\n",
    "    subsequence_mask = torch.from_numpy(subsequence_mask)\n",
    "    return subsequence_mask"
   ]
  },
  {
   "cell_type": "code",
   "execution_count": 134,
   "metadata": {},
   "outputs": [],
   "source": [
    "class ScaledDotProductAttention(nn.Module):\n",
    "    def __init__(self):\n",
    "        super().__init__()\n",
    "    def forward(self, q, k, v, mask):\n",
    "        '''q: [bs, n_head, seq_len, d_q]'''\n",
    "        attn_score = torch.matmul(q, k.transpose(-1, -2)) / np.sqrt(d_k)\n",
    "        attn_score.masked_fill_(mask, -1e9)\n",
    "        \n",
    "        attn_score = nn.Softmax(dim=-1)(attn_score)\n",
    "        context = torch.matmul(attn_score, v)\n",
    "        return context, attn_score        "
   ]
  },
  {
   "cell_type": "code",
   "execution_count": 135,
   "metadata": {},
   "outputs": [],
   "source": [
    "class MultiHeadAttention(nn.Module):\n",
    "    # 输入的inputsize（bs, len_q, d_model)\n",
    "    def __init__(self):\n",
    "        super().__init__()\n",
    "        self.w_q = nn.Linear(d_model, n_head*d_q, bias=False)\n",
    "        self.w_k = nn.Linear(d_model, n_head*d_k, bias=False)\n",
    "        self.w_v = nn.Linear(d_model, n_head*d_v, bias=False)\n",
    "        self.w_fc = nn.Linear(n_head*d_v, d_model, bias=False)\n",
    "    def forward(self, input_q, input_k, input_v, attn_mask):\n",
    "        residual, bs = input_q, input_q.size(0)\n",
    "        q = self.w_q(input_q).view(bs, -1, n_head, d_q).transpose(1, 2)\n",
    "        k = self.w_k(input_k).view(bs, -1, n_head, d_k).transpose(1, 2)\n",
    "        v = self.w_v(input_v).view(bs, -1, n_head, d_v).transpose(1, 2)\n",
    "        attn_mask = attn_mask.unsqueeze(1).repeat(1, n_head, 1, 1)\n",
    "        context, attn_score = ScaledDotProductAttention()(q, k, v, attn_mask)\n",
    "        context = context.transpose(1, 2).reshape(bs, -1, n_head*d_v)\n",
    "        output = self.w_fc(context)\n",
    "        return nn.LayerNorm(d_model)(output+residual), attn_score"
   ]
  },
  {
   "cell_type": "code",
   "execution_count": 136,
   "metadata": {},
   "outputs": [],
   "source": [
    "class PoswiseFeedForwardNet(nn.Module):\n",
    "    def __init__(self):\n",
    "        super().__init__()\n",
    "        self.fc = nn.Sequential(\n",
    "            nn.Linear(d_model, d_fc, bias=False),\n",
    "            nn.ReLU(),\n",
    "            nn.Linear(d_fc, d_model, bias=False)\n",
    "        )\n",
    "    def forward(self, x):\n",
    "        residual = x\n",
    "        output = self.fc(x)\n",
    "        return nn.LayerNorm(d_model)(output+residual)"
   ]
  },
  {
   "cell_type": "code",
   "execution_count": 137,
   "metadata": {},
   "outputs": [],
   "source": [
    "class EncoderLayer(nn.Module):\n",
    "    def __init__(self):\n",
    "        super().__init__()\n",
    "        self.enc_attn = MultiHeadAttention()\n",
    "        self.ffn = PoswiseFeedForwardNet()\n",
    "    def forward(self, x, mask):\n",
    "        output, attn_score = self.enc_attn(x, x, x, mask)\n",
    "        output = self.ffn(output)\n",
    "        return output, attn_score"
   ]
  },
  {
   "cell_type": "code",
   "execution_count": 138,
   "metadata": {},
   "outputs": [],
   "source": [
    "class Encoder(nn.Module):\n",
    "    def __init__(self):\n",
    "        super().__init__()\n",
    "        # vocab size 在这里指的是全部词的总量\n",
    "        self.word_emb = nn.Embedding(vocab_size, d_model)\n",
    "        self.pos_emb = PositionEncoder(d_model)\n",
    "        self.layers = nn.ModuleList([EncoderLayer() for _ in range(n_layers)])\n",
    "        \n",
    "    def forward(self, x):\n",
    "        ''' x: [bs, seq_len]'''\n",
    "        out = self.word_emb(x)\n",
    "        out = self.pos_emb(out.transpose(0,1)).transpose(0,1)\n",
    "        mask = get_attn_pad_mask(x, x)\n",
    "        attn_scores = []\n",
    "        for layer in self.layers:\n",
    "            out, attn_score = layer(out, mask)\n",
    "            attn_scores.append(attn_score)\n",
    "        return out, attn_scores\n"
   ]
  },
  {
   "cell_type": "code",
   "execution_count": 139,
   "metadata": {},
   "outputs": [],
   "source": [
    "# x = torch.rand(4, 24).type(torch.LongTensor)\n",
    "# a = Encoder()\n",
    "# print(a)\n",
    "# print(a(x)[0].shape)\n",
    "# print(len(a(x)[1]))"
   ]
  },
  {
   "cell_type": "markdown",
   "metadata": {},
   "source": [
    "### Decoder part"
   ]
  },
  {
   "cell_type": "code",
   "execution_count": 140,
   "metadata": {},
   "outputs": [],
   "source": [
    "class DecoderLayer(nn.Module):\n",
    "    def __init__(self):\n",
    "        super().__init__()\n",
    "        self.dec_self_attn = MultiHeadAttention()\n",
    "        self.dec_enc_attn = MultiHeadAttention()\n",
    "        self.ffn = PoswiseFeedForwardNet()\n",
    "    def forward(self, dec_input, enc_output, dec_mask, enc_mask):\n",
    "        dec_output, dec_attn_score = self.dec_self_attn(dec_input, dec_input, dec_input, dec_mask)\n",
    "        dec_output, enc_attn_score = self.dec_enc_attn(dec_output, enc_output, enc_output, enc_mask)\n",
    "        dec_output = self.ffn(dec_output)\n",
    "        return dec_output, dec_attn_score, enc_attn_score"
   ]
  },
  {
   "cell_type": "code",
   "execution_count": 141,
   "metadata": {},
   "outputs": [],
   "source": [
    "class Decoder(nn.Module):\n",
    "    def __init__(self):\n",
    "        super().__init__()\n",
    "        self.word_emb = nn.Embedding(vocab_size, d_model)\n",
    "        self.pos_emb = PositionEncoder(d_model)\n",
    "        self.layers = nn.ModuleList([DecoderLayer() for _ in range(n_layers)])\n",
    "    def forward(self, dec_inputs, enc_inputs, enc_outputs):\n",
    "        dec_outputs = self.word_emb(dec_inputs)\n",
    "        dec_outputs = self.pos_emb(dec_outputs.transpose(0,1)).transposse(0,1)\n",
    "        dec_pad_mask = get_attn_pad_mask(dec_inputs, dec_inputs)\n",
    "        dec_seq_mask = get_attn_subsequence_mask(dec_inputs)\n",
    "        dec_self_mask = torch.gt((dec_pad_mask+dec_seq_mask), 0)\n",
    "        dec_enc_mask = get_attn_pad_mask(dec_inputs, enc_inputs)\n",
    "        \n",
    "        dec_attn_scores, enc_attn_scores = [], []\n",
    "        for layer in self.layers:\n",
    "            dec_outputs, dec_attn_score, enc_attn_score = layer(dec_outputs, enc_outputs, dec_self_mask, dec_enc_mask)\n",
    "            dec_attn_scores.append(dec_attn_score)\n",
    "            enc_attn_scores.append(enc_attn_score)\n",
    "        return dec_outputs, dec_attn_scores, enc_attn_scores\n",
    "            "
   ]
  },
  {
   "cell_type": "code",
   "execution_count": 142,
   "metadata": {},
   "outputs": [],
   "source": [
    "class Transformer(nn.Module):\n",
    "    def __init__(self):\n",
    "        super(Transformer, self).__init__()\n",
    "        self.encoder = Encoder()\n",
    "        self.decoder = Decoder()\n",
    "        self.projection = nn.Linear(d_model, vocab_size, bias=False)\n",
    "    def forward(self, enc_inputs, dec_inputs):\n",
    "        '''\n",
    "        enc_inputs: [batch_size, src_len]\n",
    "        dec_inputs: [batch_size, tgt_len]\n",
    "        '''\n",
    "      \n",
    "        enc_outputs, enc_self_attns = self.encoder(enc_inputs)\n",
    "        dec_outputs, dec_self_attns, dec_enc_attns = self.decoder(dec_inputs, enc_inputs, enc_outputs)\n",
    "        dec_logits = self.projection(dec_outputs) # dec_logits: [batch_size, tgt_len, tgt_vocab_size]\n",
    "        return dec_logits.view(-1, dec_logits.size(-1)), enc_self_attns, dec_self_attns, dec_enc_attns"
   ]
  },
  {
   "cell_type": "code",
   "execution_count": 143,
   "metadata": {},
   "outputs": [],
   "source": [
    "# a =Transformer()\n",
    "# a"
   ]
  },
  {
   "cell_type": "code",
   "execution_count": null,
   "metadata": {},
   "outputs": [],
   "source": []
  }
 ],
 "metadata": {
  "kernelspec": {
   "display_name": "Python 3.8.2 64-bit",
   "language": "python",
   "name": "python38264bit55be755885774eb0a7ad3a0e48bf7753"
  },
  "language_info": {
   "codemirror_mode": {
    "name": "ipython",
    "version": 3
   },
   "file_extension": ".py",
   "mimetype": "text/x-python",
   "name": "python",
   "nbconvert_exporter": "python",
   "pygments_lexer": "ipython3",
   "version": "3.8.2"
  }
 },
 "nbformat": 4,
 "nbformat_minor": 4
}
